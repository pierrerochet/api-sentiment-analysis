{
 "cells": [
  {
   "cell_type": "markdown",
   "metadata": {},
   "source": [
    "### Description\n",
    "\n",
    "- Tâche: Analyse de sentiment\n",
    "- Labels: 1, 2, 3, 4, 5\n",
    "- Données: Avis sur Amazon\n",
    "- Langue: français\n",
    "\n",
    "Pour récupérer les données :\n",
    "\n",
    "```bash\n",
    "aws s3 cp s3://amazon-reviews-ml/json/train/dataset_fr_train.json . --no-sign-request\n",
    "aws s3 cp s3://amazon-reviews-ml/json/test/dataset_fr_test.json . --no-sign-request\n",
    "aws s3 cp s3://amazon-reviews-ml/json/dev/dataset_fr_dev.json . --no-sign-request\n",
    "```\n"
   ]
  },
  {
   "cell_type": "markdown",
   "metadata": {},
   "source": [
    "dataset | 1 | 2 | 3 | 4 | 5 | total\n",
    "- | - | - | - | - | - | -\n",
    "train | 40000 | 40000 | 40000 | 40000 | 40000 | 200000\n",
    "dev | 1000 | 1000 | 1000 | 1000 | 1000 | 5000\n",
    "test | 1000 | 1000 | 1000 | 1000 | 1000 | 5000"
   ]
  },
  {
   "cell_type": "markdown",
   "metadata": {},
   "source": [
    "## Read data"
   ]
  },
  {
   "cell_type": "code",
   "execution_count": 4,
   "metadata": {},
   "outputs": [],
   "source": [
    "import json\n",
    "import os\n",
    "import pandas as pd\n",
    "from sklearn.utils import shuffle\n",
    "from collections import Counter\n",
    "from pprint import pprint\n",
    "from datetime import datetime\n",
    "import yaml\n",
    "import pickle\n",
    "import numpy as np\n",
    "\n",
    "\n",
    "directory = '../dataset'\n",
    "train_path = directory + os.sep + 'dataset_fr_train.json'\n",
    "dev_path = directory + os.sep + 'dataset_fr_dev.json'\n",
    "test_path = directory + os.sep + 'dataset_fr_test.json'"
   ]
  },
  {
   "cell_type": "code",
   "execution_count": 18,
   "metadata": {},
   "outputs": [],
   "source": [
    "def load_data(path, size_por_class=None, replace_labels=None, random=True, random_state=42):\n",
    "    \n",
    "    # 0. read file\n",
    "    with open(path, 'r', encoding='utf8') as data_stream:\n",
    "        data = [json.loads(line) for line in data_stream]\n",
    "    df = pd.DataFrame(data)\n",
    "    df = df.astype({'stars': int})\n",
    "    \n",
    "    # 1. replace labels if required\n",
    "    if replace_labels is not None:\n",
    "        df = df.replace({'stars': replace_labels})\n",
    "    \n",
    "    # 2. filtering if required\n",
    "    if type(size_por_class) is int:\n",
    "        keep = []\n",
    "        for key, df_class in df.groupby(['stars']):\n",
    "            samples = df_class.sample(size_por_class, random_state=random_state)\n",
    "            keep.append(samples)\n",
    "        df = pd.concat(keep)\n",
    "    \n",
    "    if type(size_por_class) is dict:\n",
    "        keep = []\n",
    "        for key, df_class in df.groupby(['stars']):\n",
    "            if key in size_por_class:\n",
    "                samples = df_class.sample(size_por_class[key], random_state=random_state)\n",
    "                keep.append(samples)\n",
    "        df = pd.concat(keep)\n",
    "    \n",
    "    \n",
    "    # 3. shuffling if required\n",
    "    if shuffle:\n",
    "        df = shuffle(df, random_state=random_state)\n",
    "        \n",
    "    X = df['review_body'].values\n",
    "    y = df['stars'].values\n",
    "    return X, y\n",
    "\n",
    "\n",
    "\n",
    "def save(\n",
    "    model, report, model_name, directory='ml_models'\n",
    "):\n",
    "    time = datetime.now()\n",
    "    time = time.strftime(\"%Y%m%d-%H%M%S\")\n",
    "    \n",
    "    dir_name = f\"{model_name}-{time}\"\n",
    "    dir_path = f\"{directory}{os.sep}{dir_name}\"\n",
    "    os.mkdir(dir_path)\n",
    "    \n",
    "    model_config = model.get_params(deep=False)\n",
    "    config_path = f\"{dir_path}{os.sep}config.yml\"\n",
    "    with open(config_path, \"w\") as stream_file:\n",
    "        yaml.dump(model_config, stream_file)\n",
    "\n",
    "    report_path = f\"{dir_path}{os.sep}report.txt\"\n",
    "    with open(report_path, \"w\") as stream_file:\n",
    "        stream_file.write(report)\n",
    "\n",
    "    model_path = f\"{dir_path}{os.sep}model.pkl\"\n",
    "    with open(model_path, \"wb\") as stream_file:\n",
    "        pickle.dump(model, stream_file)\n"
   ]
  },
  {
   "cell_type": "markdown",
   "metadata": {},
   "source": [
    "## Strategy: Train SVM model regression"
   ]
  },
  {
   "cell_type": "code",
   "execution_count": 6,
   "metadata": {},
   "outputs": [],
   "source": [
    "from sklearn.pipeline import Pipeline, FeatureUnion\n",
    "from sklearn.svm import LinearSVC, SVC\n",
    "from sklearn.svm import SVR\n",
    "from sklearn.feature_extraction.text import TfidfVectorizer\n",
    "from sklearn.model_selection import GridSearchCV\n",
    "from sklearn.metrics import classification_report\n",
    "from sklearn.metrics import confusion_matrix, ConfusionMatrixDisplay\n",
    "from sklearn.metrics import mean_squared_error\n",
    "from math import floor, ceil"
   ]
  },
  {
   "cell_type": "code",
   "execution_count": 433,
   "metadata": {},
   "outputs": [
    {
     "name": "stdout",
     "output_type": "stream",
     "text": [
      "MSE :  0.9429449294353573\n"
     ]
    }
   ],
   "source": [
    "\n",
    "\n",
    "clf = Pipeline([\n",
    "    ('vect',\n",
    "         FeatureUnion([\n",
    "             ('vect_1', TfidfVectorizer(\n",
    "                analyzer='word',\n",
    "                token_pattern=r'(?u)\\b\\w+\\b',\n",
    "                lowercase=True,\n",
    "                # max_features=10000,\n",
    "                ngram_range=(1, 3))),\n",
    "         ])\n",
    "    ),  \n",
    "    ('svm',\n",
    "        SVR(\n",
    "            kernel='linear', \n",
    "            C=1,\n",
    "        )),\n",
    "    ])\n",
    "\n",
    "\n",
    "\n",
    "X_train, y_train = load_data(\n",
    "    train_path, \n",
    "    size_por_class=1000,\n",
    ")\n",
    "X_dev, y_dev = load_data(\n",
    "    dev_path,\n",
    "    size_por_class=1000,\n",
    ")\n",
    "\n",
    "# print(Counter(y_train))\n",
    "# print(Counter(y_dev))\n",
    "\n",
    "weights = {\n",
    "    1: 1, 2: 3, 3: 3, 4: 3, 5: 1\n",
    "}\n",
    "sample_weight = [weights[y] for y in y_train]\n",
    "clf.fit(X_train, y_train, svm__sample_weight=sample_weight)\n",
    "y_pred = clf.predict(X_dev)\n",
    "\n",
    "mse = mean_squared_error(y_dev, y_pred)\n",
    "print('MSE : ', mse)"
   ]
  },
  {
   "cell_type": "code",
   "execution_count": 436,
   "metadata": {},
   "outputs": [
    {
     "name": "stdout",
     "output_type": "stream",
     "text": [
      "[3.47040851 4.11824956 3.4404143  ... 2.40691393 3.42955999 2.3329304 ]\n",
      "              precision    recall  f1-score   support\n",
      "\n",
      "           1       0.68      0.32      0.44      1000\n",
      "           2       0.37      0.47      0.41      1000\n",
      "           3       0.31      0.49      0.38      1000\n",
      "           4       0.38      0.48      0.43      1000\n",
      "           5       0.59      0.26      0.37      1000\n",
      "\n",
      "    accuracy                           0.41      5000\n",
      "   macro avg       0.47      0.41      0.41      5000\n",
      "weighted avg       0.47      0.41      0.41      5000\n",
      "\n"
     ]
    },
    {
     "data": {
      "text/plain": [
       "<sklearn.metrics._plot.confusion_matrix.ConfusionMatrixDisplay at 0x21a05fd9100>"
      ]
     },
     "execution_count": 436,
     "metadata": {},
     "output_type": "execute_result"
    },
    {
     "data": {
      "image/png": "[encoded data removed]",
      "text/plain": [
       "<Figure size 432x288 with 2 Axes>"
      ]
     },
     "metadata": {
      "needs_background": "light"
     },
     "output_type": "display_data"
    }
   ],
   "source": [
    "print(y_pred)\n",
    "\n",
    "def get_label(pred):\n",
    "    if pred < 1:\n",
    "        return 1\n",
    "    if pred > 1 and pred < 2:\n",
    "        return round(pred)\n",
    "    if pred > 2 and pred < 4:\n",
    "        return round(pred)\n",
    "    if pred > 4 and pred < 5:\n",
    "        return round(pred)\n",
    "    if pred > 5:\n",
    "        return 5\n",
    "\n",
    "y_pred_c = [get_label(pred) for pred in y_pred]\n",
    "\n",
    "report = classification_report(y_dev, y_pred_c)\n",
    "print(report)\n",
    "\n",
    "cm = confusion_matrix(y_dev, y_pred_c, labels=[1, 2, 3, 4, 5])\n",
    "dist = ConfusionMatrixDisplay(confusion_matrix=cm, display_labels=[1, 2, 3, 4, 5])\n",
    "dist.plot()"
   ]
  },
  {
   "cell_type": "markdown",
   "metadata": {},
   "source": [
    "## Strategy: Train SVM model classification one-vs-rest"
   ]
  },
  {
   "cell_type": "code",
   "execution_count": 437,
   "metadata": {},
   "outputs": [
    {
     "name": "stdout",
     "output_type": "stream",
     "text": [
      "Counter({2: 1000, 3: 1000, 1: 1000, 4: 1000, 5: 1000})\n",
      "Counter({2: 1000, 3: 1000, 1: 1000, 4: 1000, 5: 1000})\n",
      "              precision    recall  f1-score   support\n",
      "\n",
      "           1       0.61      0.59      0.60      1000\n",
      "           2       0.39      0.41      0.40      1000\n",
      "           3       0.36      0.39      0.37      1000\n",
      "           4       0.38      0.38      0.38      1000\n",
      "           5       0.59      0.53      0.56      1000\n",
      "\n",
      "    accuracy                           0.46      5000\n",
      "   macro avg       0.47      0.46      0.46      5000\n",
      "weighted avg       0.47      0.46      0.46      5000\n",
      "\n"
     ]
    },
    {
     "data": {
      "image/png": "[encoded data removed]",
      "text/plain": [
       "<Figure size 432x288 with 2 Axes>"
      ]
     },
     "metadata": {
      "needs_background": "light"
     },
     "output_type": "display_data"
    }
   ],
   "source": [
    "from sklearn.pipeline import Pipeline, FeatureUnion\n",
    "from sklearn.svm import LinearSVC, SVC\n",
    "from sklearn.svm import SVR\n",
    "from sklearn.feature_extraction.text import TfidfVectorizer\n",
    "from sklearn.model_selection import GridSearchCV\n",
    "from sklearn.metrics import classification_report\n",
    "from sklearn.metrics import confusion_matrix, ConfusionMatrixDisplay\n",
    "\n",
    "\n",
    "clf = Pipeline([\n",
    "    ('vect',\n",
    "         FeatureUnion([\n",
    "             ('vect_1', TfidfVectorizer(\n",
    "                analyzer='word',\n",
    "                token_pattern=r'(?u)\\b\\w+\\b',\n",
    "                lowercase=True,\n",
    "                # max_features=10000,\n",
    "                ngram_range=(1, 3))),\n",
    "         ])\n",
    "    ),  \n",
    "    ('svm',\n",
    "        LinearSVC(\n",
    "            # kernel='linear', \n",
    "            C=1,\n",
    "            # decision_function_shape='ovo'\n",
    "            # probability=True,\n",
    "            class_weight={2: 3, 3: 5, 4: 3}\n",
    "            # class_weight={1: 3, 5: 3}\n",
    "        )),\n",
    "    ])\n",
    "\n",
    "\n",
    "X_train, y_train = load_data(\n",
    "    train_path, \n",
    "    size_por_class=1000\n",
    "    # size_por_class={'3': 1000, '4': 1000},\n",
    ")\n",
    "X_dev, y_dev = load_data(\n",
    "    dev_path,\n",
    "    size_por_class=1000\n",
    "    # size_por_class={'3': 1000, '4': 1000},\n",
    ")\n",
    "\n",
    "print(Counter(y_train))\n",
    "print(Counter(y_dev))\n",
    "\n",
    "clf.fit(X_train, y_train)\n",
    "y_pred = clf.predict(X_dev)\n",
    "report = classification_report(y_dev, y_pred)\n",
    "print(report)\n",
    "\n",
    "cm = confusion_matrix(y_dev, y_pred, labels=clf.classes_)\n",
    "dist = ConfusionMatrixDisplay(confusion_matrix=cm, display_labels=clf.classes_)\n",
    "dist.plot()\n",
    "\n",
    "save(clf, report, 'one-vs-rest', directory='../ml_models')"
   ]
  },
  {
   "cell_type": "markdown",
   "metadata": {},
   "source": [
    "## Test with grouped class"
   ]
  },
  {
   "cell_type": "code",
   "execution_count": 30,
   "metadata": {},
   "outputs": [
    {
     "name": "stdout",
     "output_type": "stream",
     "text": [
      "              precision    recall  f1-score   support\n",
      "\n",
      "           1       0.85      0.89      0.87      1000\n",
      "           5       0.88      0.84      0.86      1000\n",
      "\n",
      "    accuracy                           0.86      2000\n",
      "   macro avg       0.87      0.86      0.86      2000\n",
      "weighted avg       0.87      0.86      0.86      2000\n",
      "\n"
     ]
    },
    {
     "data": {
      "text/plain": [
       "<sklearn.metrics._plot.confusion_matrix.ConfusionMatrixDisplay at 0x12f144dc9d0>"
      ]
     },
     "execution_count": 30,
     "metadata": {},
     "output_type": "execute_result"
    },
    {
     "data": {
      "image/png": "[encoded data removed]",
      "text/plain": [
       "<Figure size 432x288 with 2 Axes>"
      ]
     },
     "metadata": {
      "needs_background": "light"
     },
     "output_type": "display_data"
    }
   ],
   "source": [
    "clf = Pipeline([\n",
    "    ('vect',\n",
    "         FeatureUnion([\n",
    "             ('vect_1', TfidfVectorizer(\n",
    "                analyzer='word',\n",
    "                token_pattern=r'(?u)\\b\\w+\\b',\n",
    "                lowercase=True,\n",
    "                # max_features=10000,\n",
    "                ngram_range=(1, 3))),\n",
    "         ])\n",
    "    ),  \n",
    "    ('svm',\n",
    "        LinearSVC(\n",
    "            # kernel='linear', \n",
    "            C=1,\n",
    "            # decision_function_shape='ovo'\n",
    "            # probability=True,\n",
    "            # class_weight={2: 3, 3: 5, 4: 3}\n",
    "            # class_weight={1: 3, 5: 3}\n",
    "        )),\n",
    "    ])\n",
    "\n",
    "\n",
    "replace_labels = {2: 1, 4: 5}\n",
    "size_por_class={1: 1000, 5: 1000}\n",
    "# size_por_class=1000\n",
    "\n",
    "X_train, y_train = load_data(\n",
    "    train_path,\n",
    "    replace_labels=replace_labels,\n",
    "    size_por_class=size_por_class,\n",
    ")\n",
    "X_dev, y_dev = load_data(\n",
    "    dev_path,\n",
    "    replace_labels=replace_labels,\n",
    "    size_por_class=size_por_class,\n",
    ")\n",
    "\n",
    "clf.fit(X_train, y_train)\n",
    "y_pred = clf.predict(X_dev)\n",
    "report = classification_report(y_dev, y_pred)\n",
    "print(report)\n",
    "\n",
    "cm = confusion_matrix(y_dev, y_pred, labels=clf.classes_)\n",
    "dist = ConfusionMatrixDisplay(confusion_matrix=cm, display_labels=clf.classes_)\n",
    "dist.plot()\n",
    "\n",
    "# save(clf, report, 'one-vs-rest', directory='../ml_models')"
   ]
  },
  {
   "cell_type": "code",
   "execution_count": null,
   "metadata": {},
   "outputs": [],
   "source": []
  }
 ],
 "metadata": {
  "kernelspec": {
   "display_name": "Python 3",
   "language": "python",
   "name": "python3"
  },
  "language_info": {
   "codemirror_mode": {
    "name": "ipython",
    "version": 3
   },
   "file_extension": ".py",
   "mimetype": "text/x-python",
   "name": "python",
   "nbconvert_exporter": "python",
   "pygments_lexer": "ipython3",
   "version": "3.8.5"
  }
 },
 "nbformat": 4,
 "nbformat_minor": 4
}
